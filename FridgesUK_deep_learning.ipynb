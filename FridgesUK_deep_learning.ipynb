{
  "cells": [
    {
      "cell_type": "code",
      "execution_count": null,
      "metadata": {
        "id": "OceNEBUAldrH"
      },
      "outputs": [],
      "source": [
        "import pandas as pd\n",
        "import numpy as np\n",
        "import seaborn as sns\n",
        "from geopy.geocoders import Nominatim\n",
        "import folium\n",
        "from folium.plugins import HeatMap"
      ]
    },
    {
      "cell_type": "markdown",
      "source": [
        "## HEAT MAP DISTRIBUTION OF FIXED-FRIDGES"
      ],
      "metadata": {
        "id": "swR5pSpsIOfJ"
      }
    },
    {
      "cell_type": "code",
      "source": [
        "geolocator = Nominatim(user_agent=\"specify_your_app_name_here\")"
      ],
      "metadata": {
        "id": "EkSamMTnHq-S"
      },
      "execution_count": null,
      "outputs": []
    },
    {
      "cell_type": "code",
      "source": [
        "def f(s):\n",
        "  if geolocator.geocode({\"postalcode\":s}) == None:\n",
        "    return (0,0)\n",
        "  else :\n",
        "    return geolocator.geocode({\"postalcode\":s})[1] "
      ],
      "metadata": {
        "id": "B17_rjPeHtzX"
      },
      "execution_count": null,
      "outputs": []
    },
    {
      "cell_type": "code",
      "source": [
        "Z = df[\"Site Zipcode\"]\n",
        "M= df.groupby(\"Site Zipcode\")[\"Site Zipcode\"].count()\n",
        "N = np.array(M)\n",
        "Z = np.sort(Z.unique())\n"
      ],
      "metadata": {
        "id": "kMgi_h_bHwUc"
      },
      "execution_count": null,
      "outputs": []
    },
    {
      "cell_type": "code",
      "source": [
        "L = []\n",
        "for i in Z:\n",
        "  L.append(f(i))"
      ],
      "metadata": {
        "id": "JZLPxYDSHy92"
      },
      "execution_count": null,
      "outputs": []
    },
    {
      "cell_type": "code",
      "source": [
        "np.savetxt('datos2.txt', L)"
      ],
      "metadata": {
        "id": "6BjvaEn2H1Lp"
      },
      "execution_count": null,
      "outputs": []
    },
    {
      "cell_type": "code",
      "source": [
        "L1 = np.loadtxt(\"datos2.txt\")"
      ],
      "metadata": {
        "id": "oBWY5blZH6ZO"
      },
      "execution_count": null,
      "outputs": []
    },
    {
      "cell_type": "code",
      "source": [
        "# extracting longitude and latitude values to separate lists\n",
        "longs = [L1[i][1] for i in range(len(L1))]\n",
        "lats = [L1[i][0] for i in range(len(L1))]\n",
        "# calculating mean longitude and latitude values\n",
        "import statistics\n",
        "meanLong = statistics.mean(longs)\n",
        "meanLat = statistics.mean(lats)\n",
        "# create base map object using Map()\n",
        "mapObj = folium.Map(location=[meanLat, meanLong], zoom_start = 14.5)\n",
        "# create heatmap layer\n",
        "heatmap = HeatMap( list(zip(lats, longs, df1[\"Porcentage\"])),\n",
        "                   min_opacity=0.2,\n",
        "                   max_val=df1[\"Porcentage\"].max(),\n",
        "                   radius=50, blur=50, \n",
        "                   max_zoom=1)\n",
        "# add heatmap layer to base map\n",
        "heatmap.add_to(mapObj)\n",
        "mapObj"
      ],
      "metadata": {
        "id": "MmpXTnqMH6-M"
      },
      "execution_count": null,
      "outputs": []
    },
    {
      "cell_type": "code",
      "source": [
        "mapObj.save(outfile= \"map.html\")"
      ],
      "metadata": {
        "id": "D4-6XySMICW2"
      },
      "execution_count": null,
      "outputs": []
    },
    {
      "cell_type": "code",
      "execution_count": null,
      "metadata": {
        "colab": {
          "base_uri": "https://localhost:8080/"
        },
        "id": "cvW7pHVnlfcY",
        "outputId": "cc5ce08c-95a1-4ca8-d1bd-03ff0401d074"
      },
      "outputs": [
        {
          "name": "stderr",
          "output_type": "stream",
          "text": [
            "/home/sjuan/anaconda3/lib/python3.8/site-packages/IPython/core/interactiveshell.py:3165: DtypeWarning: Columns (9,12,17,18,19) have mixed types.Specify dtype option on import or set low_memory=False.\n",
            "  has_raised = await self.run_ast_nodes(code_ast.body, cell_name,\n"
          ]
        }
      ],
      "source": [
        "# Reading the data set\n",
        "df = pd.read_csv(\"CPT_PREDICTIVE_PPM.csv\", encoding='windows-1252')"
      ]
    },
    {
      "cell_type": "markdown",
      "metadata": {
        "id": "Gz7OZlsNpci9"
      },
      "source": [
        "<h2><b>1. Inspeccionando los datos</b></h2>"
      ]
    },
    {
      "cell_type": "code",
      "source": [],
      "metadata": {
        "id": "6-nDERm0Hhlk"
      },
      "execution_count": null,
      "outputs": []
    },
    {
      "cell_type": "code",
      "execution_count": null,
      "metadata": {
        "colab": {
          "base_uri": "https://localhost:8080/"
        },
        "id": "sSjCIJkwo6dI",
        "outputId": "7c6af647-fcd4-4d3c-d617-ac29cb971312"
      },
      "outputs": [
        {
          "name": "stdout",
          "output_type": "stream",
          "text": [
            "Number of rows: 609989\n",
            "Number of columns: 20\n"
          ]
        }
      ],
      "source": [
        "# Shape of the DataFrame\n",
        "print('Number of rows:', df.shape[0])\n",
        "print('Number of columns:', df.shape[1])"
      ]
    },
    {
      "cell_type": "code",
      "execution_count": null,
      "metadata": {
        "colab": {
          "base_uri": "https://localhost:8080/"
        },
        "id": "-CPNud0Jpywb",
        "outputId": "6b42c967-86ec-49ad-9814-5a904a0f5a61"
      },
      "outputs": [
        {
          "name": "stdout",
          "output_type": "stream",
          "text": [
            "Index(['Work Order Number', 'Site Number', 'Site Type', 'Date Created',\n",
            "       'Date Completed', 'Provider Name', 'WO Current Status',\n",
            "       'Asset Category', 'Problem Type Name', 'Requested By', 'WO Priority',\n",
            "       'Manufacturer', 'Asset In-Service Date', 'Level 1 Organization Name',\n",
            "       'Site Zipcode', 'Sales Sq. Ft.', 'Asset Barcode', 'Client Product Name',\n",
            "       'Asset Type', 'Asset Status'],\n",
            "      dtype='object')\n"
          ]
        }
      ],
      "source": [
        "# Columns' names\n",
        "print(df.columns)"
      ]
    },
    {
      "cell_type": "code",
      "execution_count": null,
      "metadata": {
        "colab": {
          "base_uri": "https://localhost:8080/"
        },
        "id": "U26J0-78VrNc",
        "outputId": "bc5c2849-70e6-4be9-e893-e4f691fcfaff"
      },
      "outputs": [
        {
          "data": {
            "text/plain": [
              "array(['Fixture Critical Over Temperature Alarm',\n",
              "       'Fixture Critical Under Temperature Alarm',\n",
              "       'Fixture Critical Alarm', ...,\n",
              "       'KB - Case Maintenance - Period 8 - Contractual Diligence Visit 4',\n",
              "       'KB - Case Maintenance - Period 8 - Contractual Diligence Visit 5',\n",
              "       'Refrigeration Leak Detection Devices'], dtype=object)"
            ]
          },
          "execution_count": 5,
          "metadata": {},
          "output_type": "execute_result"
        }
      ],
      "source": [
        "# hacer RegEx para filtrar los más importantes (temperature/maintenance...)\n",
        "df['Problem Type Name'].unique()"
      ]
    },
    {
      "cell_type": "code",
      "execution_count": null,
      "metadata": {
        "colab": {
          "base_uri": "https://localhost:8080/",
          "height": 583
        },
        "id": "U7zZy1XarRNZ",
        "outputId": "f153856d-9375-4551-bed5-2c418d813764"
      },
      "outputs": [
        {
          "data": {
            "text/html": [
              "<div>\n",
              "<style scoped>\n",
              "    .dataframe tbody tr th:only-of-type {\n",
              "        vertical-align: middle;\n",
              "    }\n",
              "\n",
              "    .dataframe tbody tr th {\n",
              "        vertical-align: top;\n",
              "    }\n",
              "\n",
              "    .dataframe thead th {\n",
              "        text-align: right;\n",
              "    }\n",
              "</style>\n",
              "<table border=\"1\" class=\"dataframe\">\n",
              "  <thead>\n",
              "    <tr style=\"text-align: right;\">\n",
              "      <th></th>\n",
              "      <th>Work Order Number</th>\n",
              "      <th>Site Number</th>\n",
              "      <th>Site Type</th>\n",
              "      <th>Date Created</th>\n",
              "      <th>Date Completed</th>\n",
              "      <th>Provider Name</th>\n",
              "      <th>WO Current Status</th>\n",
              "      <th>Asset Category</th>\n",
              "      <th>Problem Type Name</th>\n",
              "      <th>Requested By</th>\n",
              "      <th>WO Priority</th>\n",
              "      <th>Manufacturer</th>\n",
              "      <th>Asset In-Service Date</th>\n",
              "      <th>Level 1 Organization Name</th>\n",
              "      <th>Site Zipcode</th>\n",
              "      <th>Sales Sq. Ft.</th>\n",
              "      <th>Asset Barcode</th>\n",
              "      <th>Client Product Name</th>\n",
              "      <th>Asset Type</th>\n",
              "      <th>Asset Status</th>\n",
              "    </tr>\n",
              "  </thead>\n",
              "  <tbody>\n",
              "    <tr>\n",
              "      <th>0</th>\n",
              "      <td>12904684</td>\n",
              "      <td>A0892</td>\n",
              "      <td>SUPERMARKET</td>\n",
              "      <td>01/02/2012 03:05</td>\n",
              "      <td>01/02/2012 10:00</td>\n",
              "      <td>Space Engineering services LTD</td>\n",
              "      <td>EOL</td>\n",
              "      <td>REFRIGERATION</td>\n",
              "      <td>Fixture Critical Over Temperature Alarm</td>\n",
              "      <td>Urgent Refrigeration Alarm</td>\n",
              "      <td>Standard SLA</td>\n",
              "      <td>CARTER</td>\n",
              "      <td>01/06/2011 15:19</td>\n",
              "      <td>Region N10</td>\n",
              "      <td>DN31 1UF</td>\n",
              "      <td>42639.0</td>\n",
              "      <td>SSL00567391</td>\n",
              "      <td>Frozen Food (-18C or less)</td>\n",
              "      <td>HALF GLASS DOOR &amp; WELL</td>\n",
              "      <td>In Service</td>\n",
              "    </tr>\n",
              "    <tr>\n",
              "      <th>1</th>\n",
              "      <td>12904685</td>\n",
              "      <td>A0892</td>\n",
              "      <td>SUPERMARKET</td>\n",
              "      <td>01/02/2012 03:05</td>\n",
              "      <td>01/02/2012 09:59</td>\n",
              "      <td>Space Engineering services LTD</td>\n",
              "      <td>EOL</td>\n",
              "      <td>REFRIGERATION</td>\n",
              "      <td>Fixture Critical Over Temperature Alarm</td>\n",
              "      <td>Urgent Refrigeration Alarm</td>\n",
              "      <td>Standard SLA</td>\n",
              "      <td>CARTER</td>\n",
              "      <td>01/06/2011 15:19</td>\n",
              "      <td>Region N10</td>\n",
              "      <td>DN31 1UF</td>\n",
              "      <td>42639.0</td>\n",
              "      <td>SSL00567398</td>\n",
              "      <td>Frozen Food (-18C or less)</td>\n",
              "      <td>FULL GLASS DOOR</td>\n",
              "      <td>In Service</td>\n",
              "    </tr>\n",
              "    <tr>\n",
              "      <th>2</th>\n",
              "      <td>12904853</td>\n",
              "      <td>A0892</td>\n",
              "      <td>SUPERMARKET</td>\n",
              "      <td>01/02/2012 05:10</td>\n",
              "      <td>01/02/2012 10:01</td>\n",
              "      <td>Space Engineering services LTD</td>\n",
              "      <td>EOL</td>\n",
              "      <td>REFRIGERATION</td>\n",
              "      <td>Fixture Critical Over Temperature Alarm</td>\n",
              "      <td>Urgent Refrigeration Alarm</td>\n",
              "      <td>Standard SLA</td>\n",
              "      <td>CARTER</td>\n",
              "      <td>01/06/2011 15:19</td>\n",
              "      <td>Region N10</td>\n",
              "      <td>DN31 1UF</td>\n",
              "      <td>42639.0</td>\n",
              "      <td>SSL00567399</td>\n",
              "      <td>Frozen Food (-18C or less)</td>\n",
              "      <td>FULL GLASS DOOR</td>\n",
              "      <td>In Service</td>\n",
              "    </tr>\n",
              "    <tr>\n",
              "      <th>3</th>\n",
              "      <td>12927899</td>\n",
              "      <td>A0416</td>\n",
              "      <td>SUPERMARKET</td>\n",
              "      <td>01/02/2012 08:40</td>\n",
              "      <td>02/02/2012 13:03</td>\n",
              "      <td>CMS Solutions Limited</td>\n",
              "      <td>EOL</td>\n",
              "      <td>REFRIGERATION</td>\n",
              "      <td>Fixture Critical Over Temperature Alarm</td>\n",
              "      <td>Urgent Refrigeration Alarm</td>\n",
              "      <td>Standard SLA</td>\n",
              "      <td>LINDE</td>\n",
              "      <td>01/08/2002 05:00</td>\n",
              "      <td>Region S01</td>\n",
              "      <td>BR4 0PU</td>\n",
              "      <td>13423.0</td>\n",
              "      <td>SSL00225160</td>\n",
              "      <td>Meat, Fish and Poultry (3C or less)</td>\n",
              "      <td>REMOTE MULTIDECK</td>\n",
              "      <td>In Service</td>\n",
              "    </tr>\n",
              "    <tr>\n",
              "      <th>4</th>\n",
              "      <td>12932231</td>\n",
              "      <td>A0003</td>\n",
              "      <td>SUPERMARKET</td>\n",
              "      <td>01/02/2012 13:33</td>\n",
              "      <td>08/02/2012 19:39</td>\n",
              "      <td>CMS Solutions Limited</td>\n",
              "      <td>EOL</td>\n",
              "      <td>REFRIGERATION</td>\n",
              "      <td>Fixture Critical Over Temperature Alarm</td>\n",
              "      <td>Urgent Refrigeration Alarm</td>\n",
              "      <td>Standard SLA</td>\n",
              "      <td>RADFORD RETAIL SYSTEMS</td>\n",
              "      <td>15/03/2009 04:00</td>\n",
              "      <td>Region S02</td>\n",
              "      <td>DA11 8JH</td>\n",
              "      <td>37870.0</td>\n",
              "      <td>SSL00583503</td>\n",
              "      <td>NaN</td>\n",
              "      <td>FULL GLASS DOOR</td>\n",
              "      <td>Scrapped</td>\n",
              "    </tr>\n",
              "  </tbody>\n",
              "</table>\n",
              "</div>"
            ],
            "text/plain": [
              "   Work Order Number Site Number    Site Type      Date Created  \\\n",
              "0           12904684       A0892  SUPERMARKET  01/02/2012 03:05   \n",
              "1           12904685       A0892  SUPERMARKET  01/02/2012 03:05   \n",
              "2           12904853       A0892  SUPERMARKET  01/02/2012 05:10   \n",
              "3           12927899       A0416  SUPERMARKET  01/02/2012 08:40   \n",
              "4           12932231       A0003  SUPERMARKET  01/02/2012 13:33   \n",
              "\n",
              "     Date Completed                   Provider Name WO Current Status  \\\n",
              "0  01/02/2012 10:00  Space Engineering services LTD               EOL   \n",
              "1  01/02/2012 09:59  Space Engineering services LTD               EOL   \n",
              "2  01/02/2012 10:01  Space Engineering services LTD               EOL   \n",
              "3  02/02/2012 13:03           CMS Solutions Limited               EOL   \n",
              "4  08/02/2012 19:39           CMS Solutions Limited               EOL   \n",
              "\n",
              "  Asset Category                        Problem Type Name  \\\n",
              "0  REFRIGERATION  Fixture Critical Over Temperature Alarm   \n",
              "1  REFRIGERATION  Fixture Critical Over Temperature Alarm   \n",
              "2  REFRIGERATION  Fixture Critical Over Temperature Alarm   \n",
              "3  REFRIGERATION  Fixture Critical Over Temperature Alarm   \n",
              "4  REFRIGERATION  Fixture Critical Over Temperature Alarm   \n",
              "\n",
              "                 Requested By   WO Priority            Manufacturer  \\\n",
              "0  Urgent Refrigeration Alarm  Standard SLA                  CARTER   \n",
              "1  Urgent Refrigeration Alarm  Standard SLA                  CARTER   \n",
              "2  Urgent Refrigeration Alarm  Standard SLA                  CARTER   \n",
              "3  Urgent Refrigeration Alarm  Standard SLA                   LINDE   \n",
              "4  Urgent Refrigeration Alarm  Standard SLA  RADFORD RETAIL SYSTEMS   \n",
              "\n",
              "  Asset In-Service Date Level 1 Organization Name Site Zipcode  Sales Sq. Ft.  \\\n",
              "0      01/06/2011 15:19                Region N10     DN31 1UF        42639.0   \n",
              "1      01/06/2011 15:19                Region N10     DN31 1UF        42639.0   \n",
              "2      01/06/2011 15:19                Region N10     DN31 1UF        42639.0   \n",
              "3      01/08/2002 05:00                Region S01      BR4 0PU        13423.0   \n",
              "4      15/03/2009 04:00                Region S02     DA11 8JH        37870.0   \n",
              "\n",
              "  Asset Barcode                  Client Product Name              Asset Type  \\\n",
              "0   SSL00567391           Frozen Food (-18C or less)  HALF GLASS DOOR & WELL   \n",
              "1   SSL00567398           Frozen Food (-18C or less)         FULL GLASS DOOR   \n",
              "2   SSL00567399           Frozen Food (-18C or less)         FULL GLASS DOOR   \n",
              "3   SSL00225160  Meat, Fish and Poultry (3C or less)        REMOTE MULTIDECK   \n",
              "4   SSL00583503                                  NaN         FULL GLASS DOOR   \n",
              "\n",
              "  Asset Status  \n",
              "0   In Service  \n",
              "1   In Service  \n",
              "2   In Service  \n",
              "3   In Service  \n",
              "4     Scrapped  "
            ]
          },
          "execution_count": 6,
          "metadata": {},
          "output_type": "execute_result"
        }
      ],
      "source": [
        "df.head()"
      ]
    },
    {
      "cell_type": "markdown",
      "metadata": {
        "id": "OH6Mk5kgqP_6"
      },
      "source": [
        "* \"Work Order Number\": número de identifiación de la operación\n",
        "* \"Site Number\": número de identifiación del supermercado\n",
        "* \"Site Type\": Tipo de tienda o compañia; Supermarket(big) - Convenience(small)\n",
        "* \"Date Created\": Fecha y hora en que la alarma se disparó\n",
        "* \"Date Completed\": Fecha y hora en que la alarma se silenció\n",
        "* \"Provider Name\": Nombre de la compañia de mantenimiento\n",
        "* \"WO Current Status\": \n",
        "* \"Asset Category\": Tipo de activo (Refrigerador, aire acondicionado, luz, etc)\n",
        "* \"Problem Type Name\": Tipo de alarma (Por qué se prendió la alarma)\n",
        "* \"Requested By\": Compañia quién solicita la ayuda\n",
        "* \"WO Priority\": \n",
        "* \"Manufacturer\": Fabricante\n",
        "* \"Asset In-Service Date\": Fecha y hora cuando se conectó por primera vez el activo\n",
        "* \"Level 1 Organization Name\": Región en la cual fue dividida\n",
        "* \"Site Zipcode\": Código postal de la tienda\n",
        "* \"Sales Sq. Ft.\": Tamaño de la tienda en pies cuadrados\n",
        "* \"Asset Barcode\": Código de barras del activo\n",
        "* \"Client Product Name\": Nombre del producto del cliente\n",
        "* \"Asset Type\": Tipo de activo\n",
        "* \"Asset Status\": Estado del activo. Inactivo o Activo - hora de generar el conjunto de datos\n"
      ]
    },
    {
      "cell_type": "code",
      "execution_count": null,
      "metadata": {
        "colab": {
          "base_uri": "https://localhost:8080/"
        },
        "id": "yUi18e7z1BZm",
        "outputId": "a77c8956-9336-4783-b9c0-925e1b82b52a"
      },
      "outputs": [
        {
          "name": "stdout",
          "output_type": "stream",
          "text": [
            "<class 'pandas.core.frame.DataFrame'>\n",
            "RangeIndex: 609989 entries, 0 to 609988\n",
            "Data columns (total 20 columns):\n",
            " #   Column                     Non-Null Count   Dtype  \n",
            "---  ------                     --------------   -----  \n",
            " 0   Work Order Number          609989 non-null  int64  \n",
            " 1   Site Number                609989 non-null  object \n",
            " 2   Site Type                  609989 non-null  object \n",
            " 3   Date Created               609989 non-null  object \n",
            " 4   Date Completed             577602 non-null  object \n",
            " 5   Provider Name              609989 non-null  object \n",
            " 6   WO Current Status          609989 non-null  object \n",
            " 7   Asset Category             609989 non-null  object \n",
            " 8   Problem Type Name          609989 non-null  object \n",
            " 9   Requested By               527644 non-null  object \n",
            " 10  WO Priority                609989 non-null  object \n",
            " 11  Manufacturer               609989 non-null  object \n",
            " 12  Asset In-Service Date      506751 non-null  object \n",
            " 13  Level 1 Organization Name  609989 non-null  object \n",
            " 14  Site Zipcode               609989 non-null  object \n",
            " 15  Sales Sq. Ft.              480451 non-null  float64\n",
            " 16  Asset Barcode              609989 non-null  object \n",
            " 17  Client Product Name        467909 non-null  object \n",
            " 18  Asset Type                 527644 non-null  object \n",
            " 19  Asset Status               526005 non-null  object \n",
            "dtypes: float64(1), int64(1), object(18)\n",
            "memory usage: 93.1+ MB\n"
          ]
        }
      ],
      "source": [
        "# Types of the elements of each column, nulls and the memory usage\n",
        "df.info()"
      ]
    },
    {
      "cell_type": "code",
      "execution_count": null,
      "metadata": {
        "id": "Ns9x1LrergkV"
      },
      "outputs": [],
      "source": [
        "# Lower case for strings in the DataFrame \n",
        "for col in df.columns:\n",
        "    try:\n",
        "        df[col] = df[col].str.lower()\n",
        "    except:\n",
        "        pass"
      ]
    },
    {
      "cell_type": "code",
      "execution_count": null,
      "metadata": {
        "colab": {
          "base_uri": "https://localhost:8080/",
          "height": 583
        },
        "id": "RzthydL-1ZIS",
        "outputId": "eb254d73-ede8-4102-cf13-b12220a92894"
      },
      "outputs": [
        {
          "data": {
            "text/html": [
              "<div>\n",
              "<style scoped>\n",
              "    .dataframe tbody tr th:only-of-type {\n",
              "        vertical-align: middle;\n",
              "    }\n",
              "\n",
              "    .dataframe tbody tr th {\n",
              "        vertical-align: top;\n",
              "    }\n",
              "\n",
              "    .dataframe thead th {\n",
              "        text-align: right;\n",
              "    }\n",
              "</style>\n",
              "<table border=\"1\" class=\"dataframe\">\n",
              "  <thead>\n",
              "    <tr style=\"text-align: right;\">\n",
              "      <th></th>\n",
              "      <th>Work Order Number</th>\n",
              "      <th>Site Number</th>\n",
              "      <th>Site Type</th>\n",
              "      <th>Date Created</th>\n",
              "      <th>Date Completed</th>\n",
              "      <th>Provider Name</th>\n",
              "      <th>WO Current Status</th>\n",
              "      <th>Asset Category</th>\n",
              "      <th>Problem Type Name</th>\n",
              "      <th>Requested By</th>\n",
              "      <th>WO Priority</th>\n",
              "      <th>Manufacturer</th>\n",
              "      <th>Asset In-Service Date</th>\n",
              "      <th>Level 1 Organization Name</th>\n",
              "      <th>Site Zipcode</th>\n",
              "      <th>Sales Sq. Ft.</th>\n",
              "      <th>Asset Barcode</th>\n",
              "      <th>Client Product Name</th>\n",
              "      <th>Asset Type</th>\n",
              "      <th>Asset Status</th>\n",
              "    </tr>\n",
              "  </thead>\n",
              "  <tbody>\n",
              "    <tr>\n",
              "      <th>0</th>\n",
              "      <td>12904684</td>\n",
              "      <td>a0892</td>\n",
              "      <td>supermarket</td>\n",
              "      <td>01/02/2012 03:05</td>\n",
              "      <td>01/02/2012 10:00</td>\n",
              "      <td>space engineering services ltd</td>\n",
              "      <td>eol</td>\n",
              "      <td>refrigeration</td>\n",
              "      <td>fixture critical over temperature alarm</td>\n",
              "      <td>urgent refrigeration alarm</td>\n",
              "      <td>standard sla</td>\n",
              "      <td>carter</td>\n",
              "      <td>01/06/2011 15:19</td>\n",
              "      <td>region n10</td>\n",
              "      <td>dn31 1uf</td>\n",
              "      <td>42639.0</td>\n",
              "      <td>ssl00567391</td>\n",
              "      <td>frozen food (-18c or less)</td>\n",
              "      <td>half glass door &amp; well</td>\n",
              "      <td>in service</td>\n",
              "    </tr>\n",
              "    <tr>\n",
              "      <th>1</th>\n",
              "      <td>12904685</td>\n",
              "      <td>a0892</td>\n",
              "      <td>supermarket</td>\n",
              "      <td>01/02/2012 03:05</td>\n",
              "      <td>01/02/2012 09:59</td>\n",
              "      <td>space engineering services ltd</td>\n",
              "      <td>eol</td>\n",
              "      <td>refrigeration</td>\n",
              "      <td>fixture critical over temperature alarm</td>\n",
              "      <td>urgent refrigeration alarm</td>\n",
              "      <td>standard sla</td>\n",
              "      <td>carter</td>\n",
              "      <td>01/06/2011 15:19</td>\n",
              "      <td>region n10</td>\n",
              "      <td>dn31 1uf</td>\n",
              "      <td>42639.0</td>\n",
              "      <td>ssl00567398</td>\n",
              "      <td>frozen food (-18c or less)</td>\n",
              "      <td>full glass door</td>\n",
              "      <td>in service</td>\n",
              "    </tr>\n",
              "    <tr>\n",
              "      <th>2</th>\n",
              "      <td>12904853</td>\n",
              "      <td>a0892</td>\n",
              "      <td>supermarket</td>\n",
              "      <td>01/02/2012 05:10</td>\n",
              "      <td>01/02/2012 10:01</td>\n",
              "      <td>space engineering services ltd</td>\n",
              "      <td>eol</td>\n",
              "      <td>refrigeration</td>\n",
              "      <td>fixture critical over temperature alarm</td>\n",
              "      <td>urgent refrigeration alarm</td>\n",
              "      <td>standard sla</td>\n",
              "      <td>carter</td>\n",
              "      <td>01/06/2011 15:19</td>\n",
              "      <td>region n10</td>\n",
              "      <td>dn31 1uf</td>\n",
              "      <td>42639.0</td>\n",
              "      <td>ssl00567399</td>\n",
              "      <td>frozen food (-18c or less)</td>\n",
              "      <td>full glass door</td>\n",
              "      <td>in service</td>\n",
              "    </tr>\n",
              "    <tr>\n",
              "      <th>3</th>\n",
              "      <td>12927899</td>\n",
              "      <td>a0416</td>\n",
              "      <td>supermarket</td>\n",
              "      <td>01/02/2012 08:40</td>\n",
              "      <td>02/02/2012 13:03</td>\n",
              "      <td>cms solutions limited</td>\n",
              "      <td>eol</td>\n",
              "      <td>refrigeration</td>\n",
              "      <td>fixture critical over temperature alarm</td>\n",
              "      <td>urgent refrigeration alarm</td>\n",
              "      <td>standard sla</td>\n",
              "      <td>linde</td>\n",
              "      <td>01/08/2002 05:00</td>\n",
              "      <td>region s01</td>\n",
              "      <td>br4 0pu</td>\n",
              "      <td>13423.0</td>\n",
              "      <td>ssl00225160</td>\n",
              "      <td>meat, fish and poultry (3c or less)</td>\n",
              "      <td>remote multideck</td>\n",
              "      <td>in service</td>\n",
              "    </tr>\n",
              "    <tr>\n",
              "      <th>4</th>\n",
              "      <td>12932231</td>\n",
              "      <td>a0003</td>\n",
              "      <td>supermarket</td>\n",
              "      <td>01/02/2012 13:33</td>\n",
              "      <td>08/02/2012 19:39</td>\n",
              "      <td>cms solutions limited</td>\n",
              "      <td>eol</td>\n",
              "      <td>refrigeration</td>\n",
              "      <td>fixture critical over temperature alarm</td>\n",
              "      <td>urgent refrigeration alarm</td>\n",
              "      <td>standard sla</td>\n",
              "      <td>radford retail systems</td>\n",
              "      <td>15/03/2009 04:00</td>\n",
              "      <td>region s02</td>\n",
              "      <td>da11 8jh</td>\n",
              "      <td>37870.0</td>\n",
              "      <td>ssl00583503</td>\n",
              "      <td>NaN</td>\n",
              "      <td>full glass door</td>\n",
              "      <td>scrapped</td>\n",
              "    </tr>\n",
              "  </tbody>\n",
              "</table>\n",
              "</div>"
            ],
            "text/plain": [
              "   Work Order Number Site Number    Site Type      Date Created  \\\n",
              "0           12904684       a0892  supermarket  01/02/2012 03:05   \n",
              "1           12904685       a0892  supermarket  01/02/2012 03:05   \n",
              "2           12904853       a0892  supermarket  01/02/2012 05:10   \n",
              "3           12927899       a0416  supermarket  01/02/2012 08:40   \n",
              "4           12932231       a0003  supermarket  01/02/2012 13:33   \n",
              "\n",
              "     Date Completed                   Provider Name WO Current Status  \\\n",
              "0  01/02/2012 10:00  space engineering services ltd               eol   \n",
              "1  01/02/2012 09:59  space engineering services ltd               eol   \n",
              "2  01/02/2012 10:01  space engineering services ltd               eol   \n",
              "3  02/02/2012 13:03           cms solutions limited               eol   \n",
              "4  08/02/2012 19:39           cms solutions limited               eol   \n",
              "\n",
              "  Asset Category                        Problem Type Name  \\\n",
              "0  refrigeration  fixture critical over temperature alarm   \n",
              "1  refrigeration  fixture critical over temperature alarm   \n",
              "2  refrigeration  fixture critical over temperature alarm   \n",
              "3  refrigeration  fixture critical over temperature alarm   \n",
              "4  refrigeration  fixture critical over temperature alarm   \n",
              "\n",
              "                 Requested By   WO Priority            Manufacturer  \\\n",
              "0  urgent refrigeration alarm  standard sla                  carter   \n",
              "1  urgent refrigeration alarm  standard sla                  carter   \n",
              "2  urgent refrigeration alarm  standard sla                  carter   \n",
              "3  urgent refrigeration alarm  standard sla                   linde   \n",
              "4  urgent refrigeration alarm  standard sla  radford retail systems   \n",
              "\n",
              "  Asset In-Service Date Level 1 Organization Name Site Zipcode  Sales Sq. Ft.  \\\n",
              "0      01/06/2011 15:19                region n10     dn31 1uf        42639.0   \n",
              "1      01/06/2011 15:19                region n10     dn31 1uf        42639.0   \n",
              "2      01/06/2011 15:19                region n10     dn31 1uf        42639.0   \n",
              "3      01/08/2002 05:00                region s01      br4 0pu        13423.0   \n",
              "4      15/03/2009 04:00                region s02     da11 8jh        37870.0   \n",
              "\n",
              "  Asset Barcode                  Client Product Name              Asset Type  \\\n",
              "0   ssl00567391           frozen food (-18c or less)  half glass door & well   \n",
              "1   ssl00567398           frozen food (-18c or less)         full glass door   \n",
              "2   ssl00567399           frozen food (-18c or less)         full glass door   \n",
              "3   ssl00225160  meat, fish and poultry (3c or less)        remote multideck   \n",
              "4   ssl00583503                                  NaN         full glass door   \n",
              "\n",
              "  Asset Status  \n",
              "0   in service  \n",
              "1   in service  \n",
              "2   in service  \n",
              "3   in service  \n",
              "4     scrapped  "
            ]
          },
          "execution_count": 9,
          "metadata": {},
          "output_type": "execute_result"
        }
      ],
      "source": [
        "df.head()"
      ]
    },
    {
      "cell_type": "code",
      "execution_count": null,
      "metadata": {
        "colab": {
          "base_uri": "https://localhost:8080/",
          "height": 165
        },
        "id": "7foW1bWK1cPv",
        "outputId": "0afb1240-d8bc-4fb3-968c-06afea9dddc4"
      },
      "outputs": [
        {
          "data": {
            "text/html": [
              "<div>\n",
              "<style scoped>\n",
              "    .dataframe tbody tr th:only-of-type {\n",
              "        vertical-align: middle;\n",
              "    }\n",
              "\n",
              "    .dataframe tbody tr th {\n",
              "        vertical-align: top;\n",
              "    }\n",
              "\n",
              "    .dataframe thead th {\n",
              "        text-align: right;\n",
              "    }\n",
              "</style>\n",
              "<table border=\"1\" class=\"dataframe\">\n",
              "  <thead>\n",
              "    <tr style=\"text-align: right;\">\n",
              "      <th></th>\n",
              "      <th>Work Order Number</th>\n",
              "      <th>Site Number</th>\n",
              "      <th>Site Type</th>\n",
              "      <th>Date Created</th>\n",
              "      <th>Date Completed</th>\n",
              "      <th>Provider Name</th>\n",
              "      <th>WO Current Status</th>\n",
              "      <th>Asset Category</th>\n",
              "      <th>Problem Type Name</th>\n",
              "      <th>Requested By</th>\n",
              "      <th>WO Priority</th>\n",
              "      <th>Manufacturer</th>\n",
              "      <th>Asset In-Service Date</th>\n",
              "      <th>Level 1 Organization Name</th>\n",
              "      <th>Site Zipcode</th>\n",
              "      <th>Sales Sq. Ft.</th>\n",
              "      <th>Asset Barcode</th>\n",
              "      <th>Client Product Name</th>\n",
              "      <th>Asset Type</th>\n",
              "      <th>Asset Status</th>\n",
              "    </tr>\n",
              "  </thead>\n",
              "  <tbody>\n",
              "  </tbody>\n",
              "</table>\n",
              "</div>"
            ],
            "text/plain": [
              "Empty DataFrame\n",
              "Columns: [Work Order Number, Site Number, Site Type, Date Created, Date Completed, Provider Name, WO Current Status, Asset Category, Problem Type Name, Requested By, WO Priority, Manufacturer, Asset In-Service Date, Level 1 Organization Name, Site Zipcode, Sales Sq. Ft., Asset Barcode, Client Product Name, Asset Type, Asset Status]\n",
              "Index: []"
            ]
          },
          "execution_count": 5,
          "metadata": {},
          "output_type": "execute_result"
        }
      ],
      "source": [
        "# There aren't duplicate rows\n",
        "df[df.duplicated(keep=False)]"
      ]
    },
    {
      "cell_type": "code",
      "execution_count": null,
      "metadata": {
        "colab": {
          "base_uri": "https://localhost:8080/"
        },
        "id": "aeE7FxcUCTt7",
        "outputId": "eae74269-dcb7-45aa-ee87-da1482f7c8ad"
      },
      "outputs": [
        {
          "data": {
            "text/plain": [
              "array([False, False, False, False, False, False, False, False, False,\n",
              "       False, False, False, False, False, False, False, False, False,\n",
              "       False, False])"
            ]
          },
          "execution_count": 11,
          "metadata": {},
          "output_type": "execute_result"
        }
      ],
      "source": [
        "# There aren't duplicated columns\n",
        "df.columns.duplicated()"
      ]
    },
    {
      "cell_type": "code",
      "execution_count": null,
      "metadata": {
        "id": "bllEDKxp7QVA"
      },
      "outputs": [],
      "source": [
        "# Replacing with NaN values if there are any of the symbols \"?\" and \"\" \n",
        "df = df.replace(r\"?\", np.nan)\n",
        "df = df.replace(r\"\", np.nan)"
      ]
    },
    {
      "cell_type": "code",
      "execution_count": null,
      "metadata": {
        "colab": {
          "base_uri": "https://localhost:8080/"
        },
        "id": "MoKHeL1j7pA0",
        "outputId": "d83bfa3f-c216-4238-d55b-5f79e125796b"
      },
      "outputs": [
        {
          "data": {
            "text/plain": [
              "Work Order Number                 0\n",
              "Site Number                       0\n",
              "Site Type                         0\n",
              "Date Created                      0\n",
              "Date Completed                32387\n",
              "Provider Name                     0\n",
              "WO Current Status                 0\n",
              "Asset Category                    0\n",
              "Problem Type Name                 0\n",
              "Requested By                  82345\n",
              "WO Priority                       0\n",
              "Manufacturer                      0\n",
              "Asset In-Service Date        103238\n",
              "Level 1 Organization Name         0\n",
              "Site Zipcode                      0\n",
              "Sales Sq. Ft.                129538\n",
              "Asset Barcode                     0\n",
              "Client Product Name          142080\n",
              "Asset Type                    82345\n",
              "Asset Status                  83984\n",
              "dtype: int64"
            ]
          },
          "execution_count": 13,
          "metadata": {},
          "output_type": "execute_result"
        }
      ],
      "source": [
        "# Number of nulls for each column\n",
        "df.isnull().sum()"
      ]
    },
    {
      "cell_type": "code",
      "execution_count": null,
      "metadata": {
        "colab": {
          "base_uri": "https://localhost:8080/"
        },
        "id": "qa_De3Mj6_o7",
        "outputId": "9df7d182-7266-4653-811e-dc79db7ebe22"
      },
      "outputs": [
        {
          "data": {
            "text/plain": [
              "655917"
            ]
          },
          "execution_count": 14,
          "metadata": {},
          "output_type": "execute_result"
        }
      ],
      "source": [
        "# Total number of nulls or NaN values in the DataFrame\n",
        "df.isnull().sum().sum()"
      ]
    },
    {
      "cell_type": "code",
      "execution_count": null,
      "metadata": {
        "colab": {
          "base_uri": "https://localhost:8080/",
          "height": 300
        },
        "id": "ZuNDrhjW_AN3",
        "outputId": "6942b128-fd7d-429a-e2d5-28a5a72f6671"
      },
      "outputs": [
        {
          "data": {
            "text/html": [
              "<div>\n",
              "<style scoped>\n",
              "    .dataframe tbody tr th:only-of-type {\n",
              "        vertical-align: middle;\n",
              "    }\n",
              "\n",
              "    .dataframe tbody tr th {\n",
              "        vertical-align: top;\n",
              "    }\n",
              "\n",
              "    .dataframe thead th {\n",
              "        text-align: right;\n",
              "    }\n",
              "</style>\n",
              "<table border=\"1\" class=\"dataframe\">\n",
              "  <thead>\n",
              "    <tr style=\"text-align: right;\">\n",
              "      <th></th>\n",
              "      <th>Work Order Number</th>\n",
              "      <th>Sales Sq. Ft.</th>\n",
              "    </tr>\n",
              "  </thead>\n",
              "  <tbody>\n",
              "    <tr>\n",
              "      <th>count</th>\n",
              "      <td>6.099890e+05</td>\n",
              "      <td>480451.000000</td>\n",
              "    </tr>\n",
              "    <tr>\n",
              "      <th>mean</th>\n",
              "      <td>2.258053e+07</td>\n",
              "      <td>33424.599678</td>\n",
              "    </tr>\n",
              "    <tr>\n",
              "      <th>std</th>\n",
              "      <td>5.329274e+06</td>\n",
              "      <td>17510.817320</td>\n",
              "    </tr>\n",
              "    <tr>\n",
              "      <th>min</th>\n",
              "      <td>1.290468e+07</td>\n",
              "      <td>868.000000</td>\n",
              "    </tr>\n",
              "    <tr>\n",
              "      <th>25%</th>\n",
              "      <td>1.889841e+07</td>\n",
              "      <td>21863.000000</td>\n",
              "    </tr>\n",
              "    <tr>\n",
              "      <th>50%</th>\n",
              "      <td>2.214566e+07</td>\n",
              "      <td>35011.000000</td>\n",
              "    </tr>\n",
              "    <tr>\n",
              "      <th>75%</th>\n",
              "      <td>2.693373e+07</td>\n",
              "      <td>45570.000000</td>\n",
              "    </tr>\n",
              "    <tr>\n",
              "      <th>max</th>\n",
              "      <td>3.270445e+07</td>\n",
              "      <td>87176.000000</td>\n",
              "    </tr>\n",
              "  </tbody>\n",
              "</table>\n",
              "</div>"
            ],
            "text/plain": [
              "       Work Order Number  Sales Sq. Ft.\n",
              "count       6.099890e+05  480451.000000\n",
              "mean        2.258053e+07   33424.599678\n",
              "std         5.329274e+06   17510.817320\n",
              "min         1.290468e+07     868.000000\n",
              "25%         1.889841e+07   21863.000000\n",
              "50%         2.214566e+07   35011.000000\n",
              "75%         2.693373e+07   45570.000000\n",
              "max         3.270445e+07   87176.000000"
            ]
          },
          "execution_count": 15,
          "metadata": {},
          "output_type": "execute_result"
        }
      ],
      "source": [
        "# Thera are just two columns with continue (numerical) variables  \n",
        "df.describe()"
      ]
    },
    {
      "cell_type": "code",
      "execution_count": null,
      "metadata": {
        "id": "fGDXEbBfDm48"
      },
      "outputs": [],
      "source": [
        "# IDEAS\n",
        "\n",
        "# Ver si el tamaño de la tienda tiene alguna relacion (correlacion) con el numero de alarmas en ella\n",
        "# "
      ]
    },
    {
      "cell_type": "code",
      "execution_count": null,
      "metadata": {
        "id": "Sw5Kk4myFKIH"
      },
      "outputs": [],
      "source": [
        "# New DataFrame without NaN values\n",
        "df_ = df.dropna()"
      ]
    },
    {
      "cell_type": "code",
      "execution_count": null,
      "metadata": {
        "id": "H0FjIw_bFkrV"
      },
      "outputs": [],
      "source": [
        "# Converting the datatimes columns to a pandas datetime object\n",
        "times_columns = ['Date Created', 'Date Completed', 'Asset In-Service Date']\n",
        "for column in times_columns:\n",
        "  df[column] = pd.to_datetime(df[column], format='%d/%m/%Y %H:%M')\n"
      ]
    },
    {
      "cell_type": "code",
      "execution_count": null,
      "metadata": {
        "colab": {
          "base_uri": "https://localhost:8080/"
        },
        "id": "XkCDPlxaOQri",
        "outputId": "ef65ac64-c39b-4a26-8e9c-93abab03545f"
      },
      "outputs": [
        {
          "name": "stdout",
          "output_type": "stream",
          "text": [
            "<class 'pandas.core.frame.DataFrame'>\n",
            "RangeIndex: 609989 entries, 0 to 609988\n",
            "Data columns (total 20 columns):\n",
            " #   Column                     Non-Null Count   Dtype         \n",
            "---  ------                     --------------   -----         \n",
            " 0   Work Order Number          609989 non-null  int64         \n",
            " 1   Site Number                609989 non-null  object        \n",
            " 2   Site Type                  609989 non-null  object        \n",
            " 3   Date Created               609989 non-null  datetime64[ns]\n",
            " 4   Date Completed             577602 non-null  datetime64[ns]\n",
            " 5   Provider Name              609989 non-null  object        \n",
            " 6   WO Current Status          609989 non-null  object        \n",
            " 7   Asset Category             609989 non-null  object        \n",
            " 8   Problem Type Name          609989 non-null  object        \n",
            " 9   Requested By               527644 non-null  object        \n",
            " 10  WO Priority                609989 non-null  object        \n",
            " 11  Manufacturer               609989 non-null  object        \n",
            " 12  Asset In-Service Date      506751 non-null  datetime64[ns]\n",
            " 13  Level 1 Organization Name  609989 non-null  object        \n",
            " 14  Site Zipcode               609989 non-null  object        \n",
            " 15  Sales Sq. Ft.              480451 non-null  float64       \n",
            " 16  Asset Barcode              609989 non-null  object        \n",
            " 17  Client Product Name        467909 non-null  object        \n",
            " 18  Asset Type                 527644 non-null  object        \n",
            " 19  Asset Status               526005 non-null  object        \n",
            "dtypes: datetime64[ns](3), float64(1), int64(1), object(15)\n",
            "memory usage: 93.1+ MB\n"
          ]
        }
      ],
      "source": [
        "df.info()"
      ]
    },
    {
      "cell_type": "code",
      "execution_count": null,
      "metadata": {
        "id": "baSeeUg7Nrmi"
      },
      "outputs": [],
      "source": [
        "#Completar datos/Ver que hacer con NaN\n",
        "#Eliminar valores atipicos"
      ]
    },
    {
      "cell_type": "code",
      "execution_count": null,
      "metadata": {
        "colab": {
          "base_uri": "https://localhost:8080/",
          "height": 286
        },
        "id": "Z1we_oJaN9yF",
        "outputId": "86cdac67-bd1f-4ba5-bbcd-cd25464b1eed"
      },
      "outputs": [
        {
          "data": {
            "text/plain": [
              "<AxesSubplot:>"
            ]
          },
          "execution_count": 21,
          "metadata": {},
          "output_type": "execute_result"
        },
        {
          "data": {
            "image/png": "[encoded data removed]",
            "text/plain": [
              "<Figure size 432x288 with 2 Axes>"
            ]
          },
          "metadata": {
            "needs_background": "light"
          },
          "output_type": "display_data"
        }
      ],
      "source": [
        "#Necesitamos más variables numericas\n",
        "corr= df.corr()\n",
        "sns.heatmap(data=corr, vmin=-1, vmax=1, annot=True, cmap='coolwarm',)"
      ]
    },
    {
      "cell_type": "code",
      "execution_count": null,
      "metadata": {
        "id": "I6md3iDpP1uk"
      },
      "outputs": [],
      "source": [
        "#Estandarizar y normalizar\n",
        "#OHE para variables categoricas"
      ]
    },
    {
      "cell_type": "markdown",
      "metadata": {
        "id": "37wJO0oMg96x"
      },
      "source": [
        "## Analisis para regresión"
      ]
    },
    {
      "cell_type": "code",
      "execution_count": null,
      "metadata": {
        "id": "LV5P383liZOF"
      },
      "outputs": [],
      "source": [
        "df_regresion = df.copy()"
      ]
    },
    {
      "cell_type": "code",
      "execution_count": null,
      "metadata": {
        "id": "gltEQv63id6d"
      },
      "outputs": [],
      "source": [
        "df_regresion = df_regresion.drop(['Work Order Number', 'Date Completed', 'WO Current Status', 'Asset Category', 'Problem Type Name', 'Requested By', 'WO Priority',  \\\n",
        "                   'Manufacturer', 'Asset In-Service Date', 'Level 1 Organization Name', 'Asset Barcode', 'Client Product Name', \\\n",
        "                   'Asset Type', 'Asset Status'], axis=1)"
      ]
    },
    {
      "cell_type": "code",
      "execution_count": null,
      "metadata": {
        "id": "nD-7-tDfjh9B"
      },
      "outputs": [],
      "source": [
        "df_regresion['year'] = df_regresion['Date Created'].apply(lambda t: t.year)\n",
        "df_regresion['month'] = df_regresion['Date Created'].apply(lambda t: t.month)\n",
        "\n",
        "df_regresion = df_regresion.drop(['Date Created'], axis=1)"
      ]
    },
    {
      "cell_type": "code",
      "execution_count": null,
      "metadata": {
        "colab": {
          "base_uri": "https://localhost:8080/",
          "height": 424
        },
        "id": "Kf8lX4EyPy0y",
        "outputId": "c996c0d3-f2be-4ef7-8127-9c479c92d081"
      },
      "outputs": [
        {
          "data": {
            "text/html": [
              "<div>\n",
              "<style scoped>\n",
              "    .dataframe tbody tr th:only-of-type {\n",
              "        vertical-align: middle;\n",
              "    }\n",
              "\n",
              "    .dataframe tbody tr th {\n",
              "        vertical-align: top;\n",
              "    }\n",
              "\n",
              "    .dataframe thead th {\n",
              "        text-align: right;\n",
              "    }\n",
              "</style>\n",
              "<table border=\"1\" class=\"dataframe\">\n",
              "  <thead>\n",
              "    <tr style=\"text-align: right;\">\n",
              "      <th></th>\n",
              "      <th>Site Number</th>\n",
              "      <th>Site Type</th>\n",
              "      <th>Provider Name</th>\n",
              "      <th>Site Zipcode</th>\n",
              "      <th>Sales Sq. Ft.</th>\n",
              "      <th>year</th>\n",
              "      <th>month</th>\n",
              "    </tr>\n",
              "  </thead>\n",
              "  <tbody>\n",
              "    <tr>\n",
              "      <th>0</th>\n",
              "      <td>a0892</td>\n",
              "      <td>supermarket</td>\n",
              "      <td>space engineering services ltd</td>\n",
              "      <td>dn31 1uf</td>\n",
              "      <td>42639.0</td>\n",
              "      <td>2012</td>\n",
              "      <td>2</td>\n",
              "    </tr>\n",
              "    <tr>\n",
              "      <th>1</th>\n",
              "      <td>a0892</td>\n",
              "      <td>supermarket</td>\n",
              "      <td>space engineering services ltd</td>\n",
              "      <td>dn31 1uf</td>\n",
              "      <td>42639.0</td>\n",
              "      <td>2012</td>\n",
              "      <td>2</td>\n",
              "    </tr>\n",
              "    <tr>\n",
              "      <th>2</th>\n",
              "      <td>a0892</td>\n",
              "      <td>supermarket</td>\n",
              "      <td>space engineering services ltd</td>\n",
              "      <td>dn31 1uf</td>\n",
              "      <td>42639.0</td>\n",
              "      <td>2012</td>\n",
              "      <td>2</td>\n",
              "    </tr>\n",
              "    <tr>\n",
              "      <th>3</th>\n",
              "      <td>a0416</td>\n",
              "      <td>supermarket</td>\n",
              "      <td>cms solutions limited</td>\n",
              "      <td>br4 0pu</td>\n",
              "      <td>13423.0</td>\n",
              "      <td>2012</td>\n",
              "      <td>2</td>\n",
              "    </tr>\n",
              "    <tr>\n",
              "      <th>4</th>\n",
              "      <td>a0003</td>\n",
              "      <td>supermarket</td>\n",
              "      <td>cms solutions limited</td>\n",
              "      <td>da11 8jh</td>\n",
              "      <td>37870.0</td>\n",
              "      <td>2012</td>\n",
              "      <td>2</td>\n",
              "    </tr>\n",
              "    <tr>\n",
              "      <th>...</th>\n",
              "      <td>...</td>\n",
              "      <td>...</td>\n",
              "      <td>...</td>\n",
              "      <td>...</td>\n",
              "      <td>...</td>\n",
              "      <td>...</td>\n",
              "      <td>...</td>\n",
              "    </tr>\n",
              "    <tr>\n",
              "      <th>609984</th>\n",
              "      <td>a4994</td>\n",
              "      <td>convenience store</td>\n",
              "      <td>space engineering services ltd</td>\n",
              "      <td>cv22 5ez</td>\n",
              "      <td>NaN</td>\n",
              "      <td>2015</td>\n",
              "      <td>9</td>\n",
              "    </tr>\n",
              "    <tr>\n",
              "      <th>609985</th>\n",
              "      <td>a4542</td>\n",
              "      <td>convenience store</td>\n",
              "      <td>space engineering services ltd</td>\n",
              "      <td>bs21 7ph</td>\n",
              "      <td>NaN</td>\n",
              "      <td>2015</td>\n",
              "      <td>9</td>\n",
              "    </tr>\n",
              "    <tr>\n",
              "      <th>609986</th>\n",
              "      <td>a4357</td>\n",
              "      <td>convenience store</td>\n",
              "      <td>space engineering services ltd</td>\n",
              "      <td>wv3 9qz</td>\n",
              "      <td>NaN</td>\n",
              "      <td>2015</td>\n",
              "      <td>9</td>\n",
              "    </tr>\n",
              "    <tr>\n",
              "      <th>609987</th>\n",
              "      <td>a4719</td>\n",
              "      <td>convenience store</td>\n",
              "      <td>carter refrigeration</td>\n",
              "      <td>ls25 1ds</td>\n",
              "      <td>1547.0</td>\n",
              "      <td>2015</td>\n",
              "      <td>9</td>\n",
              "    </tr>\n",
              "    <tr>\n",
              "      <th>609988</th>\n",
              "      <td>d0147</td>\n",
              "      <td>depot</td>\n",
              "      <td>closed circuit cooling (3cl)</td>\n",
              "      <td>se7 7sh</td>\n",
              "      <td>NaN</td>\n",
              "      <td>2015</td>\n",
              "      <td>9</td>\n",
              "    </tr>\n",
              "  </tbody>\n",
              "</table>\n",
              "<p>609989 rows × 7 columns</p>\n",
              "</div>"
            ],
            "text/plain": [
              "       Site Number          Site Type                   Provider Name  \\\n",
              "0            a0892        supermarket  space engineering services ltd   \n",
              "1            a0892        supermarket  space engineering services ltd   \n",
              "2            a0892        supermarket  space engineering services ltd   \n",
              "3            a0416        supermarket           cms solutions limited   \n",
              "4            a0003        supermarket           cms solutions limited   \n",
              "...            ...                ...                             ...   \n",
              "609984       a4994  convenience store  space engineering services ltd   \n",
              "609985       a4542  convenience store  space engineering services ltd   \n",
              "609986       a4357  convenience store  space engineering services ltd   \n",
              "609987       a4719  convenience store            carter refrigeration   \n",
              "609988       d0147              depot    closed circuit cooling (3cl)   \n",
              "\n",
              "       Site Zipcode  Sales Sq. Ft.  year  month  \n",
              "0          dn31 1uf        42639.0  2012      2  \n",
              "1          dn31 1uf        42639.0  2012      2  \n",
              "2          dn31 1uf        42639.0  2012      2  \n",
              "3           br4 0pu        13423.0  2012      2  \n",
              "4          da11 8jh        37870.0  2012      2  \n",
              "...             ...            ...   ...    ...  \n",
              "609984     cv22 5ez            NaN  2015      9  \n",
              "609985     bs21 7ph            NaN  2015      9  \n",
              "609986      wv3 9qz            NaN  2015      9  \n",
              "609987     ls25 1ds         1547.0  2015      9  \n",
              "609988      se7 7sh            NaN  2015      9  \n",
              "\n",
              "[609989 rows x 7 columns]"
            ]
          },
          "execution_count": 11,
          "metadata": {},
          "output_type": "execute_result"
        }
      ],
      "source": [
        "df_regresion"
      ]
    },
    {
      "cell_type": "code",
      "execution_count": null,
      "metadata": {
        "colab": {
          "base_uri": "https://localhost:8080/"
        },
        "id": "hHfAuc8_SlZx",
        "outputId": "5b320813-deb2-4fdc-c22a-eb875299185c"
      },
      "outputs": [
        {
          "data": {
            "text/plain": [
              "Site Number           0\n",
              "Site Type             0\n",
              "Provider Name         0\n",
              "Site Zipcode          0\n",
              "Sales Sq. Ft.    129538\n",
              "year                  0\n",
              "month                 0\n",
              "dtype: int64"
            ]
          },
          "execution_count": 27,
          "metadata": {},
          "output_type": "execute_result"
        }
      ],
      "source": [
        "# All nulls belong to Sales Sq. Ft. column\n",
        "df_regresion.isna().sum()"
      ]
    },
    {
      "cell_type": "code",
      "execution_count": null,
      "metadata": {
        "id": "7LV_QPNZSN1u"
      },
      "outputs": [],
      "source": [
        "df_regresion = df_regresion.fillna(0)"
      ]
    },
    {
      "cell_type": "code",
      "execution_count": null,
      "metadata": {
        "colab": {
          "base_uri": "https://localhost:8080/"
        },
        "id": "32ZrQkimSHFQ",
        "outputId": "e90011f8-7254-42fb-f399-9c9e27607500"
      },
      "outputs": [
        {
          "data": {
            "text/plain": [
              "1626"
            ]
          },
          "execution_count": 29,
          "metadata": {},
          "output_type": "execute_result"
        }
      ],
      "source": [
        "df_regresion['Site Number'].nunique()"
      ]
    },
    {
      "cell_type": "code",
      "execution_count": null,
      "metadata": {
        "colab": {
          "base_uri": "https://localhost:8080/"
        },
        "id": "R2DkSkOPj9Uy",
        "outputId": "0302d273-2d6f-4fc6-b3b8-813356e89d01"
      },
      "outputs": [
        {
          "data": {
            "text/plain": [
              "Site Number  Site Zipcode  Sales Sq. Ft.  Site Type    year  month  Provider Name        \n",
              "a0002        e15 1xe       11846.0        supermarket  2012  2      cms solutions limited     7\n",
              "                                                             3      cms solutions limited     8\n",
              "                                                             4      cms solutions limited    12\n",
              "                                                             5      cms solutions limited     7\n",
              "                                                             6      cms solutions limited    10\n",
              "                                                                                             ..\n",
              "p2835        bl3 6dh       0.0            pfs          2014  8      cbes                      5\n",
              "                                                             9      cbes                      1\n",
              "                                                             10     cbes                      3\n",
              "                                                             11     cbes                      1\n",
              "                                                       2015  4      cbes                      3\n",
              "Name: year, Length: 57663, dtype: int64"
            ]
          },
          "execution_count": 14,
          "metadata": {},
          "output_type": "execute_result"
        }
      ],
      "source": [
        "abr = df_regresion.groupby(['Site Number','Site Zipcode','Sales Sq. Ft.','Site Type','year', 'month', 'Provider Name']).year.count()\n",
        "abr"
      ]
    },
    {
      "cell_type": "code",
      "execution_count": null,
      "metadata": {
        "colab": {
          "base_uri": "https://localhost:8080/"
        },
        "id": "PPH-xBAlPATm",
        "outputId": "a36d0a71-441c-4284-b092-ed7fa70f7d52"
      },
      "outputs": [
        {
          "data": {
            "text/plain": [
              "Site Number  Site Zipcode  Sales Sq. Ft.  Site Type    year  month  Provider Name        \n",
              "a0002        e15 1xe       11846.0        supermarket  2012  2      cms solutions limited     7\n",
              "                                                             3      cms solutions limited     8\n",
              "                                                             4      cms solutions limited    12\n",
              "                                                             5      cms solutions limited     7\n",
              "                                                             6      cms solutions limited    10\n",
              "                                                                                             ..\n",
              "p2835        bl3 6dh       0.0            pfs          2014  8      cbes                      5\n",
              "                                                             9      cbes                      1\n",
              "                                                             10     cbes                      3\n",
              "                                                             11     cbes                      1\n",
              "                                                       2015  4      cbes                      3\n",
              "Name: year, Length: 57663, dtype: int64"
            ]
          },
          "execution_count": 15,
          "metadata": {},
          "output_type": "execute_result"
        }
      ],
      "source": [
        "df_regresion.groupby(['Site Number','Site Zipcode','Sales Sq. Ft.','Site Type','year', 'month', 'Provider Name']).year.count()"
      ]
    },
    {
      "cell_type": "code",
      "execution_count": null,
      "metadata": {
        "id": "miLv2-MkOkqb"
      },
      "outputs": [],
      "source": [
        "myList = []\n",
        "for i in range(len(abr)):\n",
        "  a = list(abr.index[i])\n",
        "  a.append(abr[i])\n",
        "  myList.append(a)"
      ]
    },
    {
      "cell_type": "code",
      "execution_count": null,
      "metadata": {
        "id": "UL9gIvEhsiNZ"
      },
      "outputs": [],
      "source": [
        "df_intento = pd.DataFrame(myList, columns = ['Site Number', 'Site Zipcode', 'Sales Sq. Ft.','Site Type','Year','Month','Provider Name','Number of Alarms'])"
      ]
    },
    {
      "cell_type": "code",
      "execution_count": null,
      "metadata": {
        "colab": {
          "base_uri": "https://localhost:8080/",
          "height": 424
        },
        "id": "NbQPZS1lu6s7",
        "outputId": "697ec04b-ff52-45e8-bad3-3ed080ea38fa"
      },
      "outputs": [
        {
          "data": {
            "text/html": [
              "<div>\n",
              "<style scoped>\n",
              "    .dataframe tbody tr th:only-of-type {\n",
              "        vertical-align: middle;\n",
              "    }\n",
              "\n",
              "    .dataframe tbody tr th {\n",
              "        vertical-align: top;\n",
              "    }\n",
              "\n",
              "    .dataframe thead th {\n",
              "        text-align: right;\n",
              "    }\n",
              "</style>\n",
              "<table border=\"1\" class=\"dataframe\">\n",
              "  <thead>\n",
              "    <tr style=\"text-align: right;\">\n",
              "      <th></th>\n",
              "      <th>Site Number</th>\n",
              "      <th>Site Zipcode</th>\n",
              "      <th>Sales Sq. Ft.</th>\n",
              "      <th>Site Type</th>\n",
              "      <th>Year</th>\n",
              "      <th>Month</th>\n",
              "      <th>Provider Name</th>\n",
              "      <th>Number of Alarms</th>\n",
              "    </tr>\n",
              "  </thead>\n",
              "  <tbody>\n",
              "    <tr>\n",
              "      <th>0</th>\n",
              "      <td>a0002</td>\n",
              "      <td>e15 1xe</td>\n",
              "      <td>11846.0</td>\n",
              "      <td>supermarket</td>\n",
              "      <td>2012</td>\n",
              "      <td>2</td>\n",
              "      <td>cms solutions limited</td>\n",
              "      <td>7</td>\n",
              "    </tr>\n",
              "    <tr>\n",
              "      <th>1</th>\n",
              "      <td>a0002</td>\n",
              "      <td>e15 1xe</td>\n",
              "      <td>11846.0</td>\n",
              "      <td>supermarket</td>\n",
              "      <td>2012</td>\n",
              "      <td>3</td>\n",
              "      <td>cms solutions limited</td>\n",
              "      <td>8</td>\n",
              "    </tr>\n",
              "    <tr>\n",
              "      <th>2</th>\n",
              "      <td>a0002</td>\n",
              "      <td>e15 1xe</td>\n",
              "      <td>11846.0</td>\n",
              "      <td>supermarket</td>\n",
              "      <td>2012</td>\n",
              "      <td>4</td>\n",
              "      <td>cms solutions limited</td>\n",
              "      <td>12</td>\n",
              "    </tr>\n",
              "    <tr>\n",
              "      <th>3</th>\n",
              "      <td>a0002</td>\n",
              "      <td>e15 1xe</td>\n",
              "      <td>11846.0</td>\n",
              "      <td>supermarket</td>\n",
              "      <td>2012</td>\n",
              "      <td>5</td>\n",
              "      <td>cms solutions limited</td>\n",
              "      <td>7</td>\n",
              "    </tr>\n",
              "    <tr>\n",
              "      <th>4</th>\n",
              "      <td>a0002</td>\n",
              "      <td>e15 1xe</td>\n",
              "      <td>11846.0</td>\n",
              "      <td>supermarket</td>\n",
              "      <td>2012</td>\n",
              "      <td>6</td>\n",
              "      <td>cms solutions limited</td>\n",
              "      <td>10</td>\n",
              "    </tr>\n",
              "    <tr>\n",
              "      <th>...</th>\n",
              "      <td>...</td>\n",
              "      <td>...</td>\n",
              "      <td>...</td>\n",
              "      <td>...</td>\n",
              "      <td>...</td>\n",
              "      <td>...</td>\n",
              "      <td>...</td>\n",
              "      <td>...</td>\n",
              "    </tr>\n",
              "    <tr>\n",
              "      <th>57658</th>\n",
              "      <td>p2835</td>\n",
              "      <td>bl3 6dh</td>\n",
              "      <td>0.0</td>\n",
              "      <td>pfs</td>\n",
              "      <td>2014</td>\n",
              "      <td>8</td>\n",
              "      <td>cbes</td>\n",
              "      <td>5</td>\n",
              "    </tr>\n",
              "    <tr>\n",
              "      <th>57659</th>\n",
              "      <td>p2835</td>\n",
              "      <td>bl3 6dh</td>\n",
              "      <td>0.0</td>\n",
              "      <td>pfs</td>\n",
              "      <td>2014</td>\n",
              "      <td>9</td>\n",
              "      <td>cbes</td>\n",
              "      <td>1</td>\n",
              "    </tr>\n",
              "    <tr>\n",
              "      <th>57660</th>\n",
              "      <td>p2835</td>\n",
              "      <td>bl3 6dh</td>\n",
              "      <td>0.0</td>\n",
              "      <td>pfs</td>\n",
              "      <td>2014</td>\n",
              "      <td>10</td>\n",
              "      <td>cbes</td>\n",
              "      <td>3</td>\n",
              "    </tr>\n",
              "    <tr>\n",
              "      <th>57661</th>\n",
              "      <td>p2835</td>\n",
              "      <td>bl3 6dh</td>\n",
              "      <td>0.0</td>\n",
              "      <td>pfs</td>\n",
              "      <td>2014</td>\n",
              "      <td>11</td>\n",
              "      <td>cbes</td>\n",
              "      <td>1</td>\n",
              "    </tr>\n",
              "    <tr>\n",
              "      <th>57662</th>\n",
              "      <td>p2835</td>\n",
              "      <td>bl3 6dh</td>\n",
              "      <td>0.0</td>\n",
              "      <td>pfs</td>\n",
              "      <td>2015</td>\n",
              "      <td>4</td>\n",
              "      <td>cbes</td>\n",
              "      <td>3</td>\n",
              "    </tr>\n",
              "  </tbody>\n",
              "</table>\n",
              "<p>57663 rows × 8 columns</p>\n",
              "</div>"
            ],
            "text/plain": [
              "      Site Number Site Zipcode  Sales Sq. Ft.    Site Type  Year  Month  \\\n",
              "0           a0002      e15 1xe        11846.0  supermarket  2012      2   \n",
              "1           a0002      e15 1xe        11846.0  supermarket  2012      3   \n",
              "2           a0002      e15 1xe        11846.0  supermarket  2012      4   \n",
              "3           a0002      e15 1xe        11846.0  supermarket  2012      5   \n",
              "4           a0002      e15 1xe        11846.0  supermarket  2012      6   \n",
              "...           ...          ...            ...          ...   ...    ...   \n",
              "57658       p2835      bl3 6dh            0.0          pfs  2014      8   \n",
              "57659       p2835      bl3 6dh            0.0          pfs  2014      9   \n",
              "57660       p2835      bl3 6dh            0.0          pfs  2014     10   \n",
              "57661       p2835      bl3 6dh            0.0          pfs  2014     11   \n",
              "57662       p2835      bl3 6dh            0.0          pfs  2015      4   \n",
              "\n",
              "               Provider Name  Number of Alarms  \n",
              "0      cms solutions limited                 7  \n",
              "1      cms solutions limited                 8  \n",
              "2      cms solutions limited                12  \n",
              "3      cms solutions limited                 7  \n",
              "4      cms solutions limited                10  \n",
              "...                      ...               ...  \n",
              "57658                   cbes                 5  \n",
              "57659                   cbes                 1  \n",
              "57660                   cbes                 3  \n",
              "57661                   cbes                 1  \n",
              "57662                   cbes                 3  \n",
              "\n",
              "[57663 rows x 8 columns]"
            ]
          },
          "execution_count": 18,
          "metadata": {},
          "output_type": "execute_result"
        }
      ],
      "source": [
        "df_intento"
      ]
    },
    {
      "cell_type": "code",
      "execution_count": null,
      "metadata": {
        "colab": {
          "base_uri": "https://localhost:8080/"
        },
        "id": "GNiEhu-SOsDo",
        "outputId": "3dd33bd9-e68b-4436-d645-51231d5fc01b"
      },
      "outputs": [
        {
          "data": {
            "text/plain": [
              "1626"
            ]
          },
          "execution_count": 19,
          "metadata": {},
          "output_type": "execute_result"
        }
      ],
      "source": [
        "df_intento['Site Number'].nunique()"
      ]
    },
    {
      "cell_type": "code",
      "execution_count": null,
      "metadata": {
        "colab": {
          "base_uri": "https://localhost:8080/"
        },
        "id": "HMm-EW0wU1dk",
        "outputId": "5eb00385-6784-450b-a435-dcd8eae0b719"
      },
      "outputs": [
        {
          "data": {
            "text/plain": [
              "0"
            ]
          },
          "execution_count": 20,
          "metadata": {},
          "output_type": "execute_result"
        }
      ],
      "source": [
        "df_regresion['Site Number'].nunique() - df_intento['Site Number'].nunique()"
      ]
    },
    {
      "cell_type": "markdown",
      "source": [
        "## Sklearn"
      ],
      "metadata": {
        "id": "86zjmhx3GsAB"
      }
    },
    {
      "cell_type": "code",
      "execution_count": null,
      "metadata": {
        "id": "0iTAb2DUKOTB"
      },
      "outputs": [],
      "source": [
        "from sklearn.utils import shuffle\n",
        "df_intento = shuffle(df_intento)"
      ]
    },
    {
      "cell_type": "code",
      "execution_count": null,
      "metadata": {
        "id": "9som5Y-IGUVT"
      },
      "outputs": [],
      "source": [
        "# matriz de características\n",
        "X = df_intento.drop(columns=['Number of Alarms'])\n",
        "\n",
        "# variable objetivo\n",
        "y = df_intento[['Number of Alarms']]\n"
      ]
    },
    {
      "cell_type": "code",
      "execution_count": null,
      "metadata": {
        "id": "xIxv_C_TGhno"
      },
      "outputs": [],
      "source": [
        "from sklearn.pipeline import make_pipeline\n",
        "from sklearn.preprocessing import StandardScaler\n",
        "from sklearn.impute import SimpleImputer\n",
        "from sklearn.preprocessing import OneHotEncoder\n",
        "\n",
        "num_imputer = SimpleImputer()\n",
        "scale = StandardScaler()\n",
        "cat_imputer = SimpleImputer(strategy='most_frequent')\n",
        "ohe = OneHotEncoder(sparse=False,handle_unknown='ignore')\n",
        "\n",
        "num_tra = make_pipeline(num_imputer, scale)\n",
        "num_n_tra = make_pipeline(num_imputer)\n",
        "cat_tra = make_pipeline(cat_imputer,ohe)\n",
        "cat_n_tra = make_pipeline(cat_imputer)"
      ]
    },
    {
      "cell_type": "code",
      "execution_count": null,
      "metadata": {
        "id": "BieIZUKLG7A0"
      },
      "outputs": [],
      "source": [
        "from sklearn.compose import make_column_transformer\n",
        "num_cols = ['Sales Sq. Ft.']\n",
        "num_n_cols = ['Year', 'Month']\n",
        "cat_cols = ['Site Number','Site Zipcode', 'Site Type','Provider Name']\n",
        "cat_n_cols = []\n",
        "\n",
        "preprocessor = make_column_transformer((num_tra, num_cols),\n",
        "                                       (cat_tra, cat_cols),\n",
        "                                       (num_n_tra, num_n_cols),\n",
        "                                       (cat_n_tra, cat_n_cols))"
      ]
    },
    {
      "cell_type": "code",
      "execution_count": null,
      "metadata": {
        "id": "CU4pQJirJmaV"
      },
      "outputs": [],
      "source": [
        "X_trans = preprocessor.fit_transform(X)"
      ]
    },
    {
      "cell_type": "code",
      "execution_count": null,
      "metadata": {
        "id": "yQ8K_YmbHvqG"
      },
      "outputs": [],
      "source": [
        "from sklearn.linear_model import LinearRegression\n",
        "from sklearn.linear_model import Ridge\n",
        "# from sklearn.linear_model import ElasticNet\n",
        "\n",
        "\n",
        "LR = LinearRegression()\n",
        "clf = Ridge(alpha=1)\n",
        "\n",
        "# #model = make_pipeline(preprocessor,LR)"
      ]
    },
    {
      "cell_type": "code",
      "execution_count": null,
      "metadata": {
        "colab": {
          "base_uri": "https://localhost:8080/",
          "height": 200
        },
        "id": "NkceT_G0HyXl",
        "outputId": "da87f683-8fde-45ff-a383-761bbbab08a0"
      },
      "outputs": [
        {
          "data": {
            "text/plain": [
              "Ridge(alpha=1)"
            ]
          },
          "execution_count": 43,
          "metadata": {},
          "output_type": "execute_result"
        }
      ],
      "source": [
        "from sklearn.model_selection import train_test_split\n",
        "\n",
        "X_train, X_test, y_train, y_test = train_test_split(X_trans ,y ,test_size = 0.25, random_state= 42 )\n",
        "\n",
        "clf.fit(X_train, y_train)"
      ]
    },
    {
      "cell_type": "code",
      "execution_count": null,
      "metadata": {
        "id": "3Ha3MlP0H-H3",
        "outputId": "ace78c61-99c1-44b7-ee90-2002dc38d525"
      },
      "outputs": [
        {
          "data": {
            "text/plain": [
              "0.3176522807971376"
            ]
          },
          "execution_count": 44,
          "metadata": {},
          "output_type": "execute_result"
        }
      ],
      "source": [
        "clf.score(X_test,y_test)"
      ]
    },
    {
      "cell_type": "code",
      "execution_count": null,
      "metadata": {
        "id": "p8vLlD9tu6yt",
        "outputId": "7f01301b-9b26-4e39-85f3-0f2beaf46eda"
      },
      "outputs": [
        {
          "name": "stdout",
          "output_type": "stream",
          "text": [
            "Config: {'alpha': 1.0}\n"
          ]
        }
      ],
      "source": [
        "from sklearn.model_selection import GridSearchCV, RepeatedKFold\n",
        "model = Ridge()\n",
        "#cv = RepeatedKFold(n_splits=2, n_repeats=2, random_state=1)\n",
        "grid = dict()\n",
        "grid['alpha'] = np.arange(0.9,1.01,0.01)\n",
        "search = GridSearchCV(model,grid,scoring='neg_mean_absolute_error', n_jobs=None)\n",
        "results = search.fit(X_train, y_train)\n",
        "print('Config: %s' % results.best_params_)"
      ]
    },
    {
      "cell_type": "code",
      "execution_count": null,
      "metadata": {
        "id": "IpRR4FDoAukQ"
      },
      "outputs": [],
      "source": [
        "import pickle\n",
        "\n",
        "pkl_filename = '32-3_model.pkl'\n",
        "\n",
        "with open(pkl_filename, 'wb') as file:\n",
        "    pickle.dump(clf, file)\n",
        "    \n"
      ]
    },
    {
      "cell_type": "code",
      "execution_count": null,
      "metadata": {
        "id": "77gt2pKfAukQ"
      },
      "outputs": [],
      "source": [
        "with open('preprocessor.pkl','wb') as file:\n",
        "    pickle.dump(preprocessor, file)"
      ]
    },
    {
      "cell_type": "code",
      "execution_count": null,
      "metadata": {
        "id": "R5G8W9phAukQ"
      },
      "outputs": [],
      "source": [
        "df__ = df.copy()\n",
        "df__['fixtime'] = df__['Date Completed'] - df__['Date Created']"
      ]
    },
    {
      "cell_type": "code",
      "execution_count": null,
      "metadata": {
        "id": "90NnAO3yAukR"
      },
      "outputs": [],
      "source": [
        "df__['fixtime'] = pd.to_timedelta(df__.fixtime).dt.total_seconds()"
      ]
    },
    {
      "cell_type": "code",
      "execution_count": null,
      "metadata": {
        "id": "u1-QI0dXAukR"
      },
      "outputs": [],
      "source": [
        "import seaborn as sns\n",
        "import matplotlib.pyplot as plt\n",
        "\n",
        "plt.figure(figsize=(15,7))\n",
        "sns.barplot(y='Provider Name', x='fixtime', data=df__)"
      ]
    }
  ],
  "metadata": {
    "colab": {
      "collapsed_sections": [],
      "provenance": []
    },
    "kernelspec": {
      "display_name": "Python 3",
      "language": "python",
      "name": "python3"
    },
    "language_info": {
      "codemirror_mode": {
        "name": "ipython",
        "version": 3
      },
      "file_extension": ".py",
      "mimetype": "text/x-python",
      "name": "python",
      "nbconvert_exporter": "python",
      "pygments_lexer": "ipython3",
      "version": "3.8.5"
    }
  },
  "nbformat": 4,
  "nbformat_minor": 0
}